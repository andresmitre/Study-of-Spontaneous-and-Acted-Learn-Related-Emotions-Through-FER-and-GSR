{
 "cells": [
  {
   "cell_type": "markdown",
   "metadata": {},
   "source": [
	"# Emotion Classification\n",
	"**Module 3: Data acquisition**\n",
	"* Author: [Andrés Mitre](https://github.com/andresmitre), [Center for Research in Mathematics (CIMAT)](http://www.cimat.mx/en) in Zacatecas, México.\n"
   ]
  },
   {
   "cell_type": "markdown",
   "metadata": {},
   "source": [
	"Module   |Title\n",
	"---------|--------------\n",
	"Module 1 |[Introduction](https://github.com/andresmitre/Emotion_Classification/blob/master/introduction.ipynb)\n",
	"Module 2 |[Haar Cascade Algorithm](https://github.com/andresmitre/Emotion_Classification/blob/master/Haar_Feature_based_Cascade_Classifiers.ipynb)\n",
	"Module 3 |[Data acquisition](https://github.com/andresmitre/Emotion_Classification/blob/master/data_acquisition.ipynb)\n",
	"Module 4 |[Convolutional Neural Network](https://github.com/andresmitre/Emotion_Classification/blob/master/CNN.ipynb)\n"
   ]
  },
  {
   "cell_type": "markdown",
   "metadata": {},
   "source": [
	"# Goals\n",
	"\n",
	"*  Capture RAW data from FER and GSR.\n",
	"*  Export data to a CSV file.\n"
   ]
  },
  {
   "cell_type": "markdown",
   "metadata": {},
   "source": [
	"# Raw Data\n",
	"\n",
	"The data collection, starts with a FER(Facial Expression Recognition) using [haarcascades](https://github.com/opencv/opencv), with a professional camera/webcam. Images were taken while 23 participants watched a series of films related with emotions. The images were saved into separate emotions folders. GSR lectures were recorded as well since stress and boredom emotions stimulates the activity of sweet glands. the GSR were captured with the [Grove - GSR sensor](https://www.seeedstudio.com/Grove-GSR-sensor-p-1614.html) and saved into a CSV file. \n",
	"\n",
	"**Galvanic Skin Response (GSR)**\n",
	"\n",
	"The Galvanic Skin Response (GSR) is defined as a change in the electrical properties of the skin. The signal can be used for capturing the autonomic nerve responses as a parameter of the sweat gland function. The measurement is relatively simple, and has a good repeatability. Therefore the GSR measurement can be considered to be a simple and useful tool for examination of the autonomous nervous system function, and especially the peripheral sympathetic system.\n",
	"\n",
	"For detailed information I highly reccomend to check [The complete pocket guide by IMOTIONS](https://imotions.com/guides/).\n",
	"\n",
	"* Materials required:\n",
	"    * **Camera** - [EOS Rebel T3 – Canon Profesional.](https://www.amazon.com/Canon-Digital-18-55mm-discontinued-manufacturer/dp/B004J3Y9U6).\n",
	"    * **Monitor** - [LCD 22 in, TFT FPD2275W-MX](https://www.cnet.com/products/gateway-fpd2275w/specs/).\n",
	"    * **Keyboard** - DELL SK-8115.\n",
	"    * **Speakers** - Subwoofer DELL A525.\n",
	"    * **GSR Sensor** - [Grove - GSR Sensor](https://www.seeedstudio.com/Grove-GSR-sensor-p-1614.html).\n",
	"    * **Computer** - [Dell Inspiron 13-7359 Signature Edition](http://www.dell.com/en-us/shop/dell-laptops/new-inspiron-13-7000-series-2-in-1-laptop/spd/inspiron-13-7359-laptop).\n",
	"* Films Stimulants:\n"
   ]
  },
  {
   "cell_type": "markdown",
   "metadata": {},
   "source": [
	"Emotion   |Film                |Director\n",
	"---------|---------------------|--------\n",
	"Neutral  |The Lover            |Jean-Jacques Annaud\n",
	"Happy    |When Harry Met Sally |Rob Reiner\n",
	"Stress   |Irreversible         |Gaspar Noé\n",
	"Boredom  |Amateur film         |[Merrifield, C. and Danckert, J.](https://www.youtube.com/watch?v=s34zGmq3rXQ)\n"
   ]
  },
  {
   "cell_type": "markdown",
   "metadata": {},
   "source": [
	"# Procedure\n",
    "\n",
    "The emotions from the above table were validated by more than 100 participants in the documentation project [[contact Author]](https://github.com/andresmitre). the collection of raw data takes place in a lapse of 30 seconds in every emotion. The Raw data was collected in the next sequence: \n",
	"\n",
	"* Sequence:\n",
	"    * **Neutral > Stress > Neutral > Boredom > Neutral > Happy**.\n",
	"\n",
	"The photos were taken at 10FPS. a total of 1380 images were selected as the training data set. where 10 images per emotion of every participant were captured. The images were selected according to the biggest difference between the emotion and the neutral.\n",
	"\n",
	"![Experiment](https://raw.githubusercontent.com/andresmitre/Emotion_Classification/master/Images/experiment.png \"Experiment\")\n",
	"\n",
	"Participant during the experiment.\n",
	"\n",
	"##CSV Files\n",
    "\n",
    "The raw data was collected into a CSV file. Each participant had their each CSV file for every emotion. Time, ID, Emotion and Picture number were the fields collected into de CSV, to identify the corresponding image to the specific time. The next figure represents an example of the data collected coresponding to the participant 3 (S3).\n",
    "\n"
   ]
  },
  {
   "cell_type": "markdown",
   "metadata": {},
   "source": [
	"##FER Dataset\n",
	"The Facial Expression Recognition images were saved into seperate directories (named with the emotion) every single image were recorded in the next format:\n",
	"\n",
	"* **Emotion + ID of the participant + Picture Number**.\n",
	"\n",
	"![FER Data set](https://raw.githubusercontent.com/andresmitre/Emotion_Classification/master/Images/data_set.png \"FER data set\")\n",
	"\n",
	"![Facial_db](https://raw.githubusercontent.com/andresmitre/Emotion_Classification/master/Images/facial_db.png \"Facial db\")\n",
	"\n"	
   ]
  },
  {
   "cell_type": "markdown",
   "metadata": {},
   "source": [
	"##Source Code\n",
	"The main code is posted [here](https://github.com/andresmitre/Emotion_Classification/blob/master/esponteanea.py)\n",
	"\n"
	]
	}
 ],
 "metadata": {
  "anaconda-cloud": {},
  "kernelspec": {
   "display_name": "Python 3",
   "language": "python",
   "name": "python3"
  },
  "language_info": {
   "codemirror_mode": {
    "name": "ipython",
    "version": 3
   },
   "file_extension": ".py",
   "mimetype": "text/x-python",
   "name": "python",
   "nbconvert_exporter": "python",
   "pygments_lexer": "ipython3",
   "version": "3.6.3"
  }
 },
 "nbformat": 4,
 "nbformat_minor": 1
}
